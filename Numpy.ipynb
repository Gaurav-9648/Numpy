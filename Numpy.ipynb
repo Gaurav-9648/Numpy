{
 "cells": [
  {
   "cell_type": "code",
   "execution_count": 24,
   "id": "478ad114",
   "metadata": {},
   "outputs": [
    {
     "data": {
      "text/plain": [
       "array([10, 20, 30, 40])"
      ]
     },
     "execution_count": 24,
     "metadata": {},
     "output_type": "execute_result"
    }
   ],
   "source": [
    "import numpy as np \n",
    "n=np.array([10,20,30,40])\n",
    "n"
   ]
  },
  {
   "cell_type": "code",
   "execution_count": 25,
   "id": "9af1b2d6",
   "metadata": {},
   "outputs": [
    {
     "data": {
      "text/plain": [
       "array([[10, 20, 30, 40],\n",
       "       [40, 30, 20, 10]])"
      ]
     },
     "execution_count": 25,
     "metadata": {},
     "output_type": "execute_result"
    }
   ],
   "source": [
    "n=np.array([[10,20,30,40],[40,30,20,10]])\n",
    "n"
   ]
  },
  {
   "cell_type": "code",
   "execution_count": 26,
   "id": "9c4016fc",
   "metadata": {},
   "outputs": [
    {
     "data": {
      "text/plain": [
       "numpy.ndarray"
      ]
     },
     "execution_count": 26,
     "metadata": {},
     "output_type": "execute_result"
    }
   ],
   "source": [
    "type(n)"
   ]
  },
  {
   "cell_type": "code",
   "execution_count": 8,
   "id": "779a0319",
   "metadata": {},
   "outputs": [
    {
     "data": {
      "text/plain": [
       "array([[0., 0.]])"
      ]
     },
     "execution_count": 8,
     "metadata": {},
     "output_type": "execute_result"
    }
   ],
   "source": [
    "n1=np.zeros((1,2))\n",
    "n1"
   ]
  },
  {
   "cell_type": "code",
   "execution_count": 6,
   "id": "c0f3029b",
   "metadata": {},
   "outputs": [
    {
     "data": {
      "text/plain": [
       "array([[0., 0., 0., 0., 0.],\n",
       "       [0., 0., 0., 0., 0.],\n",
       "       [0., 0., 0., 0., 0.],\n",
       "       [0., 0., 0., 0., 0.],\n",
       "       [0., 0., 0., 0., 0.]])"
      ]
     },
     "execution_count": 6,
     "metadata": {},
     "output_type": "execute_result"
    }
   ],
   "source": [
    "n1=np.zeros((5,5))\n",
    "n1"
   ]
  },
  {
   "cell_type": "code",
   "execution_count": 7,
   "id": "7af85b8c",
   "metadata": {},
   "outputs": [
    {
     "data": {
      "text/plain": [
       "array([[0., 0.],\n",
       "       [0., 0.]])"
      ]
     },
     "execution_count": 7,
     "metadata": {},
     "output_type": "execute_result"
    }
   ],
   "source": [
    "n1=np.zeros((2,2))\n",
    "n1"
   ]
  },
  {
   "cell_type": "code",
   "execution_count": 10,
   "id": "8d5593b0",
   "metadata": {},
   "outputs": [
    {
     "data": {
      "text/plain": [
       "array([[10, 10],\n",
       "       [10, 10]])"
      ]
     },
     "execution_count": 10,
     "metadata": {},
     "output_type": "execute_result"
    }
   ],
   "source": [
    "n2=np.full((2,2),10)\n",
    "n2"
   ]
  },
  {
   "cell_type": "code",
   "execution_count": 14,
   "id": "0ed90d52",
   "metadata": {},
   "outputs": [
    {
     "data": {
      "text/plain": [
       "array([[10, 10, 10, 10, 10],\n",
       "       [10, 10, 10, 10, 10],\n",
       "       [10, 10, 10, 10, 10],\n",
       "       [10, 10, 10, 10, 10]])"
      ]
     },
     "execution_count": 14,
     "metadata": {},
     "output_type": "execute_result"
    }
   ],
   "source": [
    "n2=np.full((4,5),10)\n",
    "n2"
   ]
  },
  {
   "cell_type": "code",
   "execution_count": 17,
   "id": "6f083bfc",
   "metadata": {},
   "outputs": [
    {
     "data": {
      "text/plain": [
       "array([10, 11, 12, 13, 14, 15, 16, 17, 18, 19])"
      ]
     },
     "execution_count": 17,
     "metadata": {},
     "output_type": "execute_result"
    }
   ],
   "source": [
    "n3=np.arange(10,20)\n",
    "n3"
   ]
  },
  {
   "cell_type": "code",
   "execution_count": 18,
   "id": "e2bfb004",
   "metadata": {},
   "outputs": [
    {
     "data": {
      "text/plain": [
       "array([10, 15, 20, 25, 30, 35, 40, 45, 50, 55, 60, 65])"
      ]
     },
     "execution_count": 18,
     "metadata": {},
     "output_type": "execute_result"
    }
   ],
   "source": [
    "n3=np.arange(10,70,5)\n",
    "n3"
   ]
  },
  {
   "cell_type": "code",
   "execution_count": 19,
   "id": "a4398263",
   "metadata": {},
   "outputs": [
    {
     "data": {
      "text/plain": [
       "array([ 10,  15,  20,  25,  30,  35,  40,  45,  50,  55,  60,  65,  70,\n",
       "        75,  80,  85,  90,  95, 100, 105, 110, 115, 120, 125, 130, 135,\n",
       "       140, 145, 150, 155, 160, 165, 170, 175, 180, 185, 190, 195])"
      ]
     },
     "execution_count": 19,
     "metadata": {},
     "output_type": "execute_result"
    }
   ],
   "source": [
    "n3=np.arange(10,200,5)\n",
    "n3"
   ]
  },
  {
   "cell_type": "code",
   "execution_count": 20,
   "id": "c7ae8a4f",
   "metadata": {},
   "outputs": [
    {
     "data": {
      "text/plain": [
       "array([61,  3, 84, 53, 75])"
      ]
     },
     "execution_count": 20,
     "metadata": {},
     "output_type": "execute_result"
    }
   ],
   "source": [
    "n4=np.random.randint(1,100,5)\n",
    "n4"
   ]
  },
  {
   "cell_type": "code",
   "execution_count": 21,
   "id": "44175c2b",
   "metadata": {},
   "outputs": [
    {
     "data": {
      "text/plain": [
       "array([64, 15, 10, 86, 64])"
      ]
     },
     "execution_count": 21,
     "metadata": {},
     "output_type": "execute_result"
    }
   ],
   "source": [
    "n5=np.random.randint(1,100,5)\n",
    "n5"
   ]
  },
  {
   "cell_type": "code",
   "execution_count": 22,
   "id": "b39a9760",
   "metadata": {},
   "outputs": [
    {
     "data": {
      "text/plain": [
       "array([29, 64, 69, 32, 79, 47, 86, 79, 85,  2])"
      ]
     },
     "execution_count": 22,
     "metadata": {},
     "output_type": "execute_result"
    }
   ],
   "source": [
    "n5=np.random.randint(1,100,10)\n",
    "n5"
   ]
  },
  {
   "cell_type": "code",
   "execution_count": 23,
   "id": "d0f340d3",
   "metadata": {},
   "outputs": [
    {
     "data": {
      "text/plain": [
       "array([17, 87, 98, 21, 56, 26, 58, 70, 22, 71, 27, 87, 74, 45, 76, 37, 71,\n",
       "       23, 28, 43])"
      ]
     },
     "execution_count": 23,
     "metadata": {},
     "output_type": "execute_result"
    }
   ],
   "source": [
    "n5=np.random.randint(1,100,20)\n",
    "n5"
   ]
  },
  {
   "cell_type": "code",
   "execution_count": 38,
   "id": "1ddb74b5",
   "metadata": {},
   "outputs": [
    {
     "data": {
      "text/plain": [
       "array([[10, 20, 30],\n",
       "       [ 1,  2,  3]])"
      ]
     },
     "execution_count": 38,
     "metadata": {},
     "output_type": "execute_result"
    }
   ],
   "source": [
    "n6=np.array([[10,20,30],[1,2,3]])\n",
    "n6"
   ]
  },
  {
   "cell_type": "code",
   "execution_count": 39,
   "id": "6814286e",
   "metadata": {},
   "outputs": [
    {
     "data": {
      "text/plain": [
       "(2, 3)"
      ]
     },
     "execution_count": 39,
     "metadata": {},
     "output_type": "execute_result"
    }
   ],
   "source": [
    "n6=np.array([[10,20,30],[1,2,3]])\n",
    "n6.shape"
   ]
  },
  {
   "cell_type": "code",
   "execution_count": 40,
   "id": "f94bf654",
   "metadata": {},
   "outputs": [
    {
     "data": {
      "text/plain": [
       "array([[10, 20],\n",
       "       [30,  1],\n",
       "       [ 2,  3]])"
      ]
     },
     "execution_count": 40,
     "metadata": {},
     "output_type": "execute_result"
    }
   ],
   "source": [
    "n6.shape = (3,2)\n",
    "n6"
   ]
  },
  {
   "cell_type": "code",
   "execution_count": 41,
   "id": "3eeb401f",
   "metadata": {},
   "outputs": [
    {
     "data": {
      "text/plain": [
       "array([[10, 20, 30],\n",
       "       [11, 22, 33]])"
      ]
     },
     "execution_count": 41,
     "metadata": {},
     "output_type": "execute_result"
    }
   ],
   "source": [
    "n7=np.array([10,20,30])\n",
    "n8=np.array([11,22,33])\n",
    "np.vstack((n7,n8))"
   ]
  },
  {
   "cell_type": "code",
   "execution_count": 42,
   "id": "885b074d",
   "metadata": {},
   "outputs": [
    {
     "data": {
      "text/plain": [
       "array([10, 20, 30, 11, 22, 33])"
      ]
     },
     "execution_count": 42,
     "metadata": {},
     "output_type": "execute_result"
    }
   ],
   "source": [
    "np.hstack((n7,n8))"
   ]
  },
  {
   "cell_type": "code",
   "execution_count": 43,
   "id": "48fd6dd7",
   "metadata": {},
   "outputs": [
    {
     "data": {
      "text/plain": [
       "array([[10, 11],\n",
       "       [20, 22],\n",
       "       [30, 33]])"
      ]
     },
     "execution_count": 43,
     "metadata": {},
     "output_type": "execute_result"
    }
   ],
   "source": [
    "np.column_stack((n7,n8))"
   ]
  },
  {
   "cell_type": "code",
   "execution_count": 45,
   "id": "8d84bd87",
   "metadata": {},
   "outputs": [],
   "source": [
    "n9=np.array([10,20,30,11,22])\n",
    "n10=np.array([11,22,33])"
   ]
  },
  {
   "cell_type": "code",
   "execution_count": 48,
   "id": "c53e9ce2",
   "metadata": {},
   "outputs": [
    {
     "data": {
      "text/plain": [
       "array([11, 22])"
      ]
     },
     "execution_count": 48,
     "metadata": {},
     "output_type": "execute_result"
    }
   ],
   "source": [
    "np.intersect1d(n9,n10)"
   ]
  },
  {
   "cell_type": "code",
   "execution_count": 49,
   "id": "d815e1f5",
   "metadata": {},
   "outputs": [
    {
     "data": {
      "text/plain": [
       "array([10, 20, 30])"
      ]
     },
     "execution_count": 49,
     "metadata": {},
     "output_type": "execute_result"
    }
   ],
   "source": [
    "np.setdiff1d(n9,n10)"
   ]
  },
  {
   "cell_type": "code",
   "execution_count": 50,
   "id": "b63b7cd8",
   "metadata": {},
   "outputs": [
    {
     "data": {
      "text/plain": [
       "array([33])"
      ]
     },
     "execution_count": 50,
     "metadata": {},
     "output_type": "execute_result"
    }
   ],
   "source": [
    "np.setdiff1d(n10,n9)"
   ]
  },
  {
   "cell_type": "code",
   "execution_count": 52,
   "id": "621d6c4d",
   "metadata": {},
   "outputs": [
    {
     "data": {
      "text/plain": [
       "63"
      ]
     },
     "execution_count": 52,
     "metadata": {},
     "output_type": "execute_result"
    }
   ],
   "source": [
    "n11=np.array([10,20])\n",
    "n12=np.array([11,22])\n",
    "np.sum([n11,n12])"
   ]
  },
  {
   "cell_type": "code",
   "execution_count": 53,
   "id": "bd9d8600",
   "metadata": {},
   "outputs": [
    {
     "data": {
      "text/plain": [
       "array([21, 42])"
      ]
     },
     "execution_count": 53,
     "metadata": {},
     "output_type": "execute_result"
    }
   ],
   "source": [
    "np.sum([n11,n12],axis=0)"
   ]
  },
  {
   "cell_type": "code",
   "execution_count": 54,
   "id": "0c3b1401",
   "metadata": {},
   "outputs": [
    {
     "data": {
      "text/plain": [
       "array([30, 33])"
      ]
     },
     "execution_count": 54,
     "metadata": {},
     "output_type": "execute_result"
    }
   ],
   "source": [
    "np.sum([n11,n12],axis=1)"
   ]
  },
  {
   "cell_type": "code",
   "execution_count": 56,
   "id": "debac76e",
   "metadata": {},
   "outputs": [
    {
     "data": {
      "text/plain": [
       "array([11, 21, 31])"
      ]
     },
     "execution_count": 56,
     "metadata": {},
     "output_type": "execute_result"
    }
   ],
   "source": [
    "n11=np.array([10,20,30])\n",
    "n11=n11+1\n",
    "n11"
   ]
  },
  {
   "cell_type": "code",
   "execution_count": 57,
   "id": "339328b4",
   "metadata": {},
   "outputs": [
    {
     "data": {
      "text/plain": [
       "array([10, 20, 30])"
      ]
     },
     "execution_count": 57,
     "metadata": {},
     "output_type": "execute_result"
    }
   ],
   "source": [
    "n11=n11-1\n",
    "n11"
   ]
  },
  {
   "cell_type": "code",
   "execution_count": 58,
   "id": "31fe4e4b",
   "metadata": {},
   "outputs": [
    {
     "data": {
      "text/plain": [
       "array([30, 60, 90])"
      ]
     },
     "execution_count": 58,
     "metadata": {},
     "output_type": "execute_result"
    }
   ],
   "source": [
    "n11=n11*3\n",
    "n11"
   ]
  },
  {
   "cell_type": "code",
   "execution_count": 59,
   "id": "34306528",
   "metadata": {},
   "outputs": [
    {
     "data": {
      "text/plain": [
       "array([15., 30., 45.])"
      ]
     },
     "execution_count": 59,
     "metadata": {},
     "output_type": "execute_result"
    }
   ],
   "source": [
    "n11=n11/2\n",
    "n11"
   ]
  },
  {
   "cell_type": "code",
   "execution_count": 60,
   "id": "bfdec739",
   "metadata": {},
   "outputs": [
    {
     "data": {
      "text/plain": [
       "array([1., 0., 1.])"
      ]
     },
     "execution_count": 60,
     "metadata": {},
     "output_type": "execute_result"
    }
   ],
   "source": [
    "n11=n11%2\n",
    "n11"
   ]
  },
  {
   "cell_type": "code",
   "execution_count": 62,
   "id": "8a4b63a0",
   "metadata": {},
   "outputs": [
    {
     "data": {
      "text/plain": [
       "48.333333333333336"
      ]
     },
     "execution_count": 62,
     "metadata": {},
     "output_type": "execute_result"
    }
   ],
   "source": [
    "n13=np.array([20,90,30,40,50,60])\n",
    "np.mean(n13)"
   ]
  },
  {
   "cell_type": "code",
   "execution_count": 63,
   "id": "20ff56fd",
   "metadata": {},
   "outputs": [
    {
     "data": {
      "text/plain": [
       "22.66911751455907"
      ]
     },
     "execution_count": 63,
     "metadata": {},
     "output_type": "execute_result"
    }
   ],
   "source": [
    "np.std(n13)"
   ]
  },
  {
   "cell_type": "code",
   "execution_count": 64,
   "id": "cbd5c9ba",
   "metadata": {},
   "outputs": [
    {
     "data": {
      "text/plain": [
       "45.0"
      ]
     },
     "execution_count": 64,
     "metadata": {},
     "output_type": "execute_result"
    }
   ],
   "source": [
    "np.median(n13)"
   ]
  },
  {
   "cell_type": "code",
   "execution_count": 67,
   "id": "26ab40dc",
   "metadata": {},
   "outputs": [
    {
     "data": {
      "text/plain": [
       "array([[20, 90, 30],\n",
       "       [40, 50, 60],\n",
       "       [11, 22, 33]])"
      ]
     },
     "execution_count": 67,
     "metadata": {},
     "output_type": "execute_result"
    }
   ],
   "source": [
    "n14=np.array([[20,90,30],[40,50,60],[11,22,33]])\n",
    "n14"
   ]
  },
  {
   "cell_type": "code",
   "execution_count": 68,
   "id": "123e6801",
   "metadata": {},
   "outputs": [
    {
     "data": {
      "text/plain": [
       "array([20, 90, 30])"
      ]
     },
     "execution_count": 68,
     "metadata": {},
     "output_type": "execute_result"
    }
   ],
   "source": [
    "n14[0]"
   ]
  },
  {
   "cell_type": "code",
   "execution_count": 69,
   "id": "ad60aa0c",
   "metadata": {},
   "outputs": [
    {
     "data": {
      "text/plain": [
       "array([40, 50, 60])"
      ]
     },
     "execution_count": 69,
     "metadata": {},
     "output_type": "execute_result"
    }
   ],
   "source": [
    "n14[1]"
   ]
  },
  {
   "cell_type": "code",
   "execution_count": 70,
   "id": "d8c27bbe",
   "metadata": {},
   "outputs": [
    {
     "data": {
      "text/plain": [
       "array([90, 50, 22])"
      ]
     },
     "execution_count": 70,
     "metadata": {},
     "output_type": "execute_result"
    }
   ],
   "source": [
    "n14[:,1]"
   ]
  },
  {
   "cell_type": "code",
   "execution_count": 71,
   "id": "15bda930",
   "metadata": {},
   "outputs": [
    {
     "data": {
      "text/plain": [
       "array([30, 60, 33])"
      ]
     },
     "execution_count": 71,
     "metadata": {},
     "output_type": "execute_result"
    }
   ],
   "source": [
    "n14[:,2]"
   ]
  },
  {
   "cell_type": "code",
   "execution_count": 72,
   "id": "3624afee",
   "metadata": {},
   "outputs": [
    {
     "data": {
      "text/plain": [
       "array([33])"
      ]
     },
     "execution_count": 72,
     "metadata": {},
     "output_type": "execute_result"
    }
   ],
   "source": [
    "n14[2:,2]"
   ]
  },
  {
   "cell_type": "code",
   "execution_count": 75,
   "id": "096e8ec2",
   "metadata": {},
   "outputs": [
    {
     "data": {
      "text/plain": [
       "array([60])"
      ]
     },
     "execution_count": 75,
     "metadata": {},
     "output_type": "execute_result"
    }
   ],
   "source": [
    "n14[1:2,2]"
   ]
  },
  {
   "cell_type": "code",
   "execution_count": 76,
   "id": "3b8e93b1",
   "metadata": {},
   "outputs": [
    {
     "data": {
      "text/plain": [
       "array([[20, 90, 30],\n",
       "       [40, 50, 60],\n",
       "       [11, 22, 33]])"
      ]
     },
     "execution_count": 76,
     "metadata": {},
     "output_type": "execute_result"
    }
   ],
   "source": [
    "n14"
   ]
  },
  {
   "cell_type": "code",
   "execution_count": 77,
   "id": "9b1a650c",
   "metadata": {},
   "outputs": [
    {
     "data": {
      "text/plain": [
       "array([[20, 40, 11],\n",
       "       [90, 50, 22],\n",
       "       [30, 60, 33]])"
      ]
     },
     "execution_count": 77,
     "metadata": {},
     "output_type": "execute_result"
    }
   ],
   "source": [
    "n14.transpose()"
   ]
  },
  {
   "cell_type": "code",
   "execution_count": 78,
   "id": "4c5afce7",
   "metadata": {},
   "outputs": [
    {
     "data": {
      "text/plain": [
       "array([[1, 2, 3],\n",
       "       [4, 5, 6],\n",
       "       [7, 8, 9]])"
      ]
     },
     "execution_count": 78,
     "metadata": {},
     "output_type": "execute_result"
    }
   ],
   "source": [
    "n15=np.array([[1,2,3],[4,5,6],[7,8,9]])\n",
    "n15"
   ]
  },
  {
   "cell_type": "code",
   "execution_count": 80,
   "id": "4c45b72f",
   "metadata": {},
   "outputs": [
    {
     "data": {
      "text/plain": [
       "array([[590, 730, 870],\n",
       "       [660, 810, 960],\n",
       "       [330, 396, 462]])"
      ]
     },
     "execution_count": 80,
     "metadata": {},
     "output_type": "execute_result"
    }
   ],
   "source": [
    "n14.dot(n15)"
   ]
  },
  {
   "cell_type": "code",
   "execution_count": 81,
   "id": "c6d86f31",
   "metadata": {},
   "outputs": [
    {
     "data": {
      "text/plain": [
       "array([[ 133,  256,  249],\n",
       "       [ 346,  742,  618],\n",
       "       [ 559, 1228,  987]])"
      ]
     },
     "execution_count": 81,
     "metadata": {},
     "output_type": "execute_result"
    }
   ],
   "source": [
    "n15.dot(n14)"
   ]
  },
  {
   "cell_type": "code",
   "execution_count": 82,
   "id": "8f9a8ed1",
   "metadata": {},
   "outputs": [],
   "source": [
    "n16=np.array([1,2,3,4,5,6,7,8,9])\n",
    "np.save('my_numpy',n16)"
   ]
  },
  {
   "cell_type": "code",
   "execution_count": 83,
   "id": "78c06b89",
   "metadata": {},
   "outputs": [
    {
     "data": {
      "text/plain": [
       "array([1, 2, 3, 4, 5, 6, 7, 8, 9])"
      ]
     },
     "execution_count": 83,
     "metadata": {},
     "output_type": "execute_result"
    }
   ],
   "source": [
    "n17=np.load('my_numpy.npy')\n",
    "n17"
   ]
  },
  {
   "cell_type": "code",
   "execution_count": null,
   "id": "f643ffdf",
   "metadata": {},
   "outputs": [],
   "source": []
  }
 ],
 "metadata": {
  "kernelspec": {
   "display_name": "Python 3 (ipykernel)",
   "language": "python",
   "name": "python3"
  },
  "language_info": {
   "codemirror_mode": {
    "name": "ipython",
    "version": 3
   },
   "file_extension": ".py",
   "mimetype": "text/x-python",
   "name": "python",
   "nbconvert_exporter": "python",
   "pygments_lexer": "ipython3",
   "version": "3.9.12"
  }
 },
 "nbformat": 4,
 "nbformat_minor": 5
}
